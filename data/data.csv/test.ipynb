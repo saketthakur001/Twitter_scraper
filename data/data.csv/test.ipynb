{
 "cells": [
  {
   "cell_type": "code",
   "execution_count": 25,
   "metadata": {},
   "outputs": [],
   "source": [
    "import json\n",
    "import os\n",
    "\n",
    "# Get the current working directory\n",
    "directory_path = os.getcwd()\n",
    "merged_data = []\n",
    "\n",
    "# Iterate through all the files in the directory\n",
    "for file_name in os.listdir(directory_path):\n",
    "    if file_name.endswith(\".json\"):\n",
    "        file_path = os.path.join(directory_path, file_name)\n",
    "        \n",
    "        with open(file_path, 'r') as file:\n",
    "            no_null_data = []\n",
    "            data = json.load(file)I \n",
    "            for comment in data:\n",
    "                if comment:\n",
    "                    no_null_data.append(comment)\n",
    "            for _ in no_null_data:\n",
    "                merged_data.append(_)\n",
    "\n",
    "# # Write the merged data to a new file\n",
    "with open(\"merged_file.json\", 'w') as file:\n",
    "    json.dump(merged_data, file, indent=4)\n"
   ]
  },
  {
   "cell_type": "code",
   "execution_count": 23,
   "metadata": {},
   "outputs": [
    {
     "data": {
      "text/plain": [
       "574"
      ]
     },
     "execution_count": 23,
     "metadata": {},
     "output_type": "execute_result"
    }
   ],
   "source": [
    "len(merged_data)"
   ]
  },
  {
   "cell_type": "code",
   "execution_count": 27,
   "metadata": {},
   "outputs": [],
   "source": [
    "import pandas as pd\n",
    "\n",
    "file = pd.read_json(\"merged_file.json\")\n",
    "\n",
    "# output the data as csv\n",
    "file.to_csv(\"merged_file.csv\")"
   ]
  }
 ],
 "metadata": {
  "kernelspec": {
   "display_name": "Python 3",
   "language": "python",
   "name": "python3"
  },
  "language_info": {
   "codemirror_mode": {
    "name": "ipython",
    "version": 3
   },
   "file_extension": ".py",
   "mimetype": "text/x-python",
   "name": "python",
   "nbconvert_exporter": "python",
   "pygments_lexer": "ipython3",
   "version": "3.11.4"
  },
  "orig_nbformat": 4
 },
 "nbformat": 4,
 "nbformat_minor": 2
}
