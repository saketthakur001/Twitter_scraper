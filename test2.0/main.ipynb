{
 "cells": [
  {
   "cell_type": "code",
   "execution_count": 1,
   "metadata": {},
   "outputs": [
    {
     "ename": "FileNotFoundError",
     "evalue": "[Errno 2] No such file or directory: 'twitter_comments_data-23423423532524.txt'",
     "output_type": "error",
     "traceback": [
      "\u001b[0;31m---------------------------------------------------------------------------\u001b[0m",
      "\u001b[0;31mFileNotFoundError\u001b[0m                         Traceback (most recent call last)",
      "\u001b[1;32m/home/saket/Documents/python/i3access/Twitter_scraper/test2.0/main.ipynb Cell 1\u001b[0m line \u001b[0;36m1\n\u001b[1;32m     <a href='vscode-notebook-cell:/home/saket/Documents/python/i3access/Twitter_scraper/test2.0/main.ipynb#X11sZmlsZQ%3D%3D?line=12'>13</a>\u001b[0m \u001b[39m# Read the JSON string from the file\u001b[39;00m\n\u001b[1;32m     <a href='vscode-notebook-cell:/home/saket/Documents/python/i3access/Twitter_scraper/test2.0/main.ipynb#X11sZmlsZQ%3D%3D?line=13'>14</a>\u001b[0m file_path \u001b[39m=\u001b[39m \u001b[39m'\u001b[39m\u001b[39mtwitter_comments_data-23423423532524.txt\u001b[39m\u001b[39m'\u001b[39m\n\u001b[0;32m---> <a href='vscode-notebook-cell:/home/saket/Documents/python/i3access/Twitter_scraper/test2.0/main.ipynb#X11sZmlsZQ%3D%3D?line=14'>15</a>\u001b[0m json_str \u001b[39m=\u001b[39m read_file(file_path)\n\u001b[1;32m     <a href='vscode-notebook-cell:/home/saket/Documents/python/i3access/Twitter_scraper/test2.0/main.ipynb#X11sZmlsZQ%3D%3D?line=16'>17</a>\u001b[0m \u001b[39m# Replace problematic characters and sequences\u001b[39;00m\n\u001b[1;32m     <a href='vscode-notebook-cell:/home/saket/Documents/python/i3access/Twitter_scraper/test2.0/main.ipynb#X11sZmlsZQ%3D%3D?line=17'>18</a>\u001b[0m json_str \u001b[39m=\u001b[39m json_str\u001b[39m.\u001b[39mreplace(\u001b[39m'\u001b[39m\u001b[39m“\u001b[39m\u001b[39m'\u001b[39m, \u001b[39m'\u001b[39m\u001b[39m\"\u001b[39m\u001b[39m'\u001b[39m)\u001b[39m.\u001b[39mreplace(\u001b[39m'\u001b[39m\u001b[39m”\u001b[39m\u001b[39m'\u001b[39m, \u001b[39m'\u001b[39m\u001b[39m\"\u001b[39m\u001b[39m'\u001b[39m)\u001b[39m.\u001b[39mreplace(\u001b[39m'\u001b[39m\u001b[39m‘\u001b[39m\u001b[39m'\u001b[39m, \u001b[39m\"\u001b[39m\u001b[39m'\u001b[39m\u001b[39m\"\u001b[39m)\u001b[39m.\u001b[39mreplace(\u001b[39m'\u001b[39m\u001b[39m’\u001b[39m\u001b[39m'\u001b[39m, \u001b[39m\"\u001b[39m\u001b[39m'\u001b[39m\u001b[39m\"\u001b[39m)\u001b[39m.\u001b[39mreplace(\u001b[39m'\u001b[39m\u001b[39m\\xa0\u001b[39;00m\u001b[39m'\u001b[39m, \u001b[39m'\u001b[39m\u001b[39m \u001b[39m\u001b[39m'\u001b[39m)\n",
      "\u001b[1;32m/home/saket/Documents/python/i3access/Twitter_scraper/test2.0/main.ipynb Cell 1\u001b[0m line \u001b[0;36m5\n\u001b[1;32m      <a href='vscode-notebook-cell:/home/saket/Documents/python/i3access/Twitter_scraper/test2.0/main.ipynb#X11sZmlsZQ%3D%3D?line=3'>4</a>\u001b[0m \u001b[39mdef\u001b[39;00m \u001b[39mread_file\u001b[39m(file_path):\n\u001b[0;32m----> <a href='vscode-notebook-cell:/home/saket/Documents/python/i3access/Twitter_scraper/test2.0/main.ipynb#X11sZmlsZQ%3D%3D?line=4'>5</a>\u001b[0m     \u001b[39mwith\u001b[39;00m \u001b[39mopen\u001b[39;49m(file_path, \u001b[39m'\u001b[39;49m\u001b[39mr\u001b[39;49m\u001b[39m'\u001b[39;49m) \u001b[39mas\u001b[39;00m f:\n\u001b[1;32m      <a href='vscode-notebook-cell:/home/saket/Documents/python/i3access/Twitter_scraper/test2.0/main.ipynb#X11sZmlsZQ%3D%3D?line=5'>6</a>\u001b[0m         \u001b[39mreturn\u001b[39;00m f\u001b[39m.\u001b[39mread()\n",
      "File \u001b[0;32m/usr/lib/python3/dist-packages/IPython/core/interactiveshell.py:284\u001b[0m, in \u001b[0;36m_modified_open\u001b[0;34m(file, *args, **kwargs)\u001b[0m\n\u001b[1;32m    277\u001b[0m \u001b[39mif\u001b[39;00m file \u001b[39min\u001b[39;00m {\u001b[39m0\u001b[39m, \u001b[39m1\u001b[39m, \u001b[39m2\u001b[39m}:\n\u001b[1;32m    278\u001b[0m     \u001b[39mraise\u001b[39;00m \u001b[39mValueError\u001b[39;00m(\n\u001b[1;32m    279\u001b[0m         \u001b[39mf\u001b[39m\u001b[39m\"\u001b[39m\u001b[39mIPython won\u001b[39m\u001b[39m'\u001b[39m\u001b[39mt let you open fd=\u001b[39m\u001b[39m{\u001b[39;00mfile\u001b[39m}\u001b[39;00m\u001b[39m by default \u001b[39m\u001b[39m\"\u001b[39m\n\u001b[1;32m    280\u001b[0m         \u001b[39m\"\u001b[39m\u001b[39mas it is likely to crash IPython. If you know what you are doing, \u001b[39m\u001b[39m\"\u001b[39m\n\u001b[1;32m    281\u001b[0m         \u001b[39m\"\u001b[39m\u001b[39myou can use builtins\u001b[39m\u001b[39m'\u001b[39m\u001b[39m open.\u001b[39m\u001b[39m\"\u001b[39m\n\u001b[1;32m    282\u001b[0m     )\n\u001b[0;32m--> 284\u001b[0m \u001b[39mreturn\u001b[39;00m io_open(file, \u001b[39m*\u001b[39;49margs, \u001b[39m*\u001b[39;49m\u001b[39m*\u001b[39;49mkwargs)\n",
      "\u001b[0;31mFileNotFoundError\u001b[0m: [Errno 2] No such file or directory: 'twitter_comments_data-23423423532524.txt'"
     ]
    }
   ],
   "source": [
    "import json\n",
    "\n",
    "# Function to read the file\n",
    "def read_file(file_path):\n",
    "    with open(file_path, 'r') as f:\n",
    "        return f.read()\n",
    "\n",
    "# Function to write to a new file\n",
    "def write_file(file_path, content):\n",
    "    with open(file_path, 'w') as f:\n",
    "        f.write(content)\n",
    "\n",
    "# Read the JSON string from the file\n",
    "file_path = 'twitter_comments_data-23423423532524.txt'\n",
    "json_str = read_file(file_path)\n",
    "\n",
    "# Replace problematic characters and sequences\n",
    "json_str = json_str.replace('“', '\"').replace('”', '\"').replace('‘', \"'\").replace('’', \"'\").replace('\\xa0', ' ')\n",
    "\n",
    "try:\n",
    "    # Attempt to load the JSON string into a Python object\n",
    "    json_obj = json.loads(json_str)\n",
    "    \n",
    "    # Save the corrected JSON to a new file\n",
    "    new_file_path = 'corrected_twitter_comments_data.json'\n",
    "    write_file(new_file_path, json.dumps(json_obj, indent=4))\n",
    "    \n",
    "    print(f\"JSON has been corrected and saved to '{new_file_path}'\")\n",
    "    \n",
    "except json.JSONDecodeError as e:\n",
    "    print(f\"JSON Decode Error: {e}\")\n"
   ]
  },
  {
   "cell_type": "code",
   "execution_count": 2,
   "metadata": {},
   "outputs": [
    {
     "name": "stdout",
     "output_type": "stream",
     "text": [
      "https://twitter.com/search?q=%23upiindia&src=typed_query&f=top\n"
     ]
    },
    {
     "data": {
      "text/plain": [
       "'https://twitter.com/search?q=%23upiindia&src=typed_query&f=top'"
      ]
     },
     "execution_count": 2,
     "metadata": {},
     "output_type": "execute_result"
    }
   ],
   "source": [
    "\n",
    "print(twitter_search('#upiindia'))\n",
    "\"https://twitter.com/search?q=%23upiindia&src=typed_query&f=top\""
   ]
  },
  {
   "cell_type": "code",
   "execution_count": 3,
   "metadata": {},
   "outputs": [
    {
     "ename": "NoSuchWindowException",
     "evalue": "Message: no such window: target window already closed\nfrom unknown error: web view not found\n  (Session info: chrome=117.0.5938.62)\nStacktrace:\n#0 0x556a1b96e693 <unknown>\n#1 0x556a1b6441e7 <unknown>\n#2 0x556a1b61cfe8 <unknown>\n#3 0x556a1b6b242f <unknown>\n#4 0x556a1b6c5e76 <unknown>\n#5 0x556a1b6ace93 <unknown>\n#6 0x556a1b67f934 <unknown>\n#7 0x556a1b68071e <unknown>\n#8 0x556a1b933c98 <unknown>\n#9 0x556a1b937bd0 <unknown>\n#10 0x556a1b94217c <unknown>\n#11 0x556a1b9387e8 <unknown>\n#12 0x556a1b90525f <unknown>\n#13 0x556a1b95ce68 <unknown>\n#14 0x556a1b95d039 <unknown>\n#15 0x556a1b96d823 <unknown>\n#16 0x7f06c82b23ec <unknown>\n",
     "output_type": "error",
     "traceback": [
      "\u001b[0;31m---------------------------------------------------------------------------\u001b[0m",
      "\u001b[0;31mNoSuchWindowException\u001b[0m                     Traceback (most recent call last)",
      "\u001b[1;32m/home/saket/Documents/python/i3access/Twitter_scraper/test2.0/main.ipynb Cell 1\u001b[0m line \u001b[0;36m3\n\u001b[1;32m     <a href='vscode-notebook-cell:/home/saket/Documents/python/i3access/Twitter_scraper/test2.0/main.ipynb#W0sZmlsZQ%3D%3D?line=31'>32</a>\u001b[0m driver \u001b[39m=\u001b[39m webdriver\u001b[39m.\u001b[39mChrome()\n\u001b[1;32m     <a href='vscode-notebook-cell:/home/saket/Documents/python/i3access/Twitter_scraper/test2.0/main.ipynb#W0sZmlsZQ%3D%3D?line=33'>34</a>\u001b[0m driver\u001b[39m.\u001b[39mget(\u001b[39m\"\u001b[39m\u001b[39mhttps://www.google.com/search?q=blue+beerries&sca_esv=565306219&sxsrf=AM9HkKklKddUofahjiY19DG_J0W1unMrlA\u001b[39m\u001b[39m%\u001b[39m\u001b[39m3A1694687417521&source=hp&ei=ueACZaOzHYL8wQPG9a6wCw&iflsig=AO6bgOgAAAAAZQLuyZ-mRXBu-VWi8egFoD8N0nWfv7Zw&ved=0ahUKEwjj85jM8qmBAxUCfnAKHca6C7YQ4dUDCAk&uact=5&oq=blue+beerries&gs_lp=Egdnd3Mtd2l6Ig1ibHVlIGJlZXJyaWVzMgoQLhixAxiABBgKMgcQABiABBgKMg0QABiABBixAxiDARgKMgcQABiABBgKMgcQABiABBgKMgoQABiABBixAxgKMgcQABiABBgKMgcQABiABBgKMgcQLhiABBgKMgcQABiABBgKSO8fUABYvB5wBHgAkAEAmAG3AaABwg-qAQQwLjEzuAEDyAEA-AEBwgIHECMYigUYJ8ICCxAAGIAEGLEDGIMBwgILEAAYigUYsQMYgwHCAhEQLhiABBixAxiDARjHARjRA8ICCBAuGIAEGLEDwgIOEC4YgAQYsQMYxwEY0QPCAgUQABiABMICCBAAGIAEGLEDwgILEC4YgAQYxwEYrwHCAgsQLhiABBixAxiDAcICERAuGIMBGMcBGLEDGNEDGIAEwgILEAAYgAQYsQMYyQPCAggQABiKBRiSA8ICCxAuGIMBGLEDGIAEwgIIEC4YsQMYgAQ&sclient=gws-wiz\u001b[39m\u001b[39m\"\u001b[39m)\n\u001b[0;32m---> <a href='vscode-notebook-cell:/home/saket/Documents/python/i3access/Twitter_scraper/test2.0/main.ipynb#W0sZmlsZQ%3D%3D?line=35'>36</a>\u001b[0m human_like_scroll(driver)\n\u001b[1;32m     <a href='vscode-notebook-cell:/home/saket/Documents/python/i3access/Twitter_scraper/test2.0/main.ipynb#W0sZmlsZQ%3D%3D?line=36'>37</a>\u001b[0m \u001b[39mprint\u001b[39m(\u001b[39m'\u001b[39m\u001b[39mdone\u001b[39m\u001b[39m'\u001b[39m)\n",
      "\u001b[1;32m/home/saket/Documents/python/i3access/Twitter_scraper/test2.0/main.ipynb Cell 1\u001b[0m line \u001b[0;36m1\n\u001b[1;32m     <a href='vscode-notebook-cell:/home/saket/Documents/python/i3access/Twitter_scraper/test2.0/main.ipynb#W0sZmlsZQ%3D%3D?line=12'>13</a>\u001b[0m \u001b[39mfor\u001b[39;00m _ \u001b[39min\u001b[39;00m \u001b[39mrange\u001b[39m(random\u001b[39m.\u001b[39mrandint(\u001b[39m10\u001b[39m, \u001b[39m20\u001b[39m)):\n\u001b[1;32m     <a href='vscode-notebook-cell:/home/saket/Documents/python/i3access/Twitter_scraper/test2.0/main.ipynb#W0sZmlsZQ%3D%3D?line=13'>14</a>\u001b[0m     chunk_distance \u001b[39m=\u001b[39m scroll_distance \u001b[39m/\u001b[39m\u001b[39m/\u001b[39m \u001b[39m4\u001b[39m\n\u001b[0;32m---> <a href='vscode-notebook-cell:/home/saket/Documents/python/i3access/Twitter_scraper/test2.0/main.ipynb#W0sZmlsZQ%3D%3D?line=14'>15</a>\u001b[0m     driver\u001b[39m.\u001b[39;49mexecute_script(\u001b[39mf\u001b[39;49m\u001b[39m\"\u001b[39;49m\u001b[39mwindow.scrollBy(0, \u001b[39;49m\u001b[39m{\u001b[39;49;00mchunk_distance\u001b[39m}\u001b[39;49;00m\u001b[39m);\u001b[39;49m\u001b[39m\"\u001b[39;49m)\n\u001b[1;32m     <a href='vscode-notebook-cell:/home/saket/Documents/python/i3access/Twitter_scraper/test2.0/main.ipynb#W0sZmlsZQ%3D%3D?line=15'>16</a>\u001b[0m     time\u001b[39m.\u001b[39msleep(random\u001b[39m.\u001b[39muniform(\u001b[39m0.01\u001b[39m, \u001b[39m0.05\u001b[39m))\n\u001b[1;32m     <a href='vscode-notebook-cell:/home/saket/Documents/python/i3access/Twitter_scraper/test2.0/main.ipynb#W0sZmlsZQ%3D%3D?line=17'>18</a>\u001b[0m time\u001b[39m.\u001b[39msleep(random\u001b[39m.\u001b[39mrandint(\u001b[39m1\u001b[39m, \u001b[39m3\u001b[39m))\n",
      "File \u001b[0;32m~/.local/lib/python3.11/site-packages/selenium/webdriver/remote/webdriver.py:404\u001b[0m, in \u001b[0;36mWebDriver.execute_script\u001b[0;34m(self, script, *args)\u001b[0m\n\u001b[1;32m    401\u001b[0m converted_args \u001b[39m=\u001b[39m \u001b[39mlist\u001b[39m(args)\n\u001b[1;32m    402\u001b[0m command \u001b[39m=\u001b[39m Command\u001b[39m.\u001b[39mW3C_EXECUTE_SCRIPT\n\u001b[0;32m--> 404\u001b[0m \u001b[39mreturn\u001b[39;00m \u001b[39mself\u001b[39;49m\u001b[39m.\u001b[39;49mexecute(command, {\u001b[39m\"\u001b[39;49m\u001b[39mscript\u001b[39;49m\u001b[39m\"\u001b[39;49m: script, \u001b[39m\"\u001b[39;49m\u001b[39margs\u001b[39;49m\u001b[39m\"\u001b[39;49m: converted_args})[\u001b[39m\"\u001b[39m\u001b[39mvalue\u001b[39m\u001b[39m\"\u001b[39m]\n",
      "File \u001b[0;32m~/.local/lib/python3.11/site-packages/selenium/webdriver/remote/webdriver.py:344\u001b[0m, in \u001b[0;36mWebDriver.execute\u001b[0;34m(self, driver_command, params)\u001b[0m\n\u001b[1;32m    342\u001b[0m response \u001b[39m=\u001b[39m \u001b[39mself\u001b[39m\u001b[39m.\u001b[39mcommand_executor\u001b[39m.\u001b[39mexecute(driver_command, params)\n\u001b[1;32m    343\u001b[0m \u001b[39mif\u001b[39;00m response:\n\u001b[0;32m--> 344\u001b[0m     \u001b[39mself\u001b[39;49m\u001b[39m.\u001b[39;49merror_handler\u001b[39m.\u001b[39;49mcheck_response(response)\n\u001b[1;32m    345\u001b[0m     response[\u001b[39m\"\u001b[39m\u001b[39mvalue\u001b[39m\u001b[39m\"\u001b[39m] \u001b[39m=\u001b[39m \u001b[39mself\u001b[39m\u001b[39m.\u001b[39m_unwrap_value(response\u001b[39m.\u001b[39mget(\u001b[39m\"\u001b[39m\u001b[39mvalue\u001b[39m\u001b[39m\"\u001b[39m, \u001b[39mNone\u001b[39;00m))\n\u001b[1;32m    346\u001b[0m     \u001b[39mreturn\u001b[39;00m response\n",
      "File \u001b[0;32m~/.local/lib/python3.11/site-packages/selenium/webdriver/remote/errorhandler.py:229\u001b[0m, in \u001b[0;36mErrorHandler.check_response\u001b[0;34m(self, response)\u001b[0m\n\u001b[1;32m    227\u001b[0m         alert_text \u001b[39m=\u001b[39m value[\u001b[39m\"\u001b[39m\u001b[39malert\u001b[39m\u001b[39m\"\u001b[39m]\u001b[39m.\u001b[39mget(\u001b[39m\"\u001b[39m\u001b[39mtext\u001b[39m\u001b[39m\"\u001b[39m)\n\u001b[1;32m    228\u001b[0m     \u001b[39mraise\u001b[39;00m exception_class(message, screen, stacktrace, alert_text)  \u001b[39m# type: ignore[call-arg]  # mypy is not smart enough here\u001b[39;00m\n\u001b[0;32m--> 229\u001b[0m \u001b[39mraise\u001b[39;00m exception_class(message, screen, stacktrace)\n",
      "\u001b[0;31mNoSuchWindowException\u001b[0m: Message: no such window: target window already closed\nfrom unknown error: web view not found\n  (Session info: chrome=117.0.5938.62)\nStacktrace:\n#0 0x556a1b96e693 <unknown>\n#1 0x556a1b6441e7 <unknown>\n#2 0x556a1b61cfe8 <unknown>\n#3 0x556a1b6b242f <unknown>\n#4 0x556a1b6c5e76 <unknown>\n#5 0x556a1b6ace93 <unknown>\n#6 0x556a1b67f934 <unknown>\n#7 0x556a1b68071e <unknown>\n#8 0x556a1b933c98 <unknown>\n#9 0x556a1b937bd0 <unknown>\n#10 0x556a1b94217c <unknown>\n#11 0x556a1b9387e8 <unknown>\n#12 0x556a1b90525f <unknown>\n#13 0x556a1b95ce68 <unknown>\n#14 0x556a1b95d039 <unknown>\n#15 0x556a1b96d823 <unknown>\n#16 0x7f06c82b23ec <unknown>\n"
     ]
    }
   ],
   "source": [
    "import random\n",
    "import time\n",
    "from selenium import webdriver\n",
    "\n",
    "def human_like_scroll(driver, iterations=500):\n",
    "    \"\"\"Simulate a human-like scrolling behavior.\"\"\"\n",
    "\n",
    "    time.sleep(random.gauss(0.5, 0.1))\n",
    "\n",
    "    for _ in range(random.randint(iterations // 2, iterations)):\n",
    "        scroll_distance = int(random.gauss(100, 30))\n",
    "        \n",
    "        for _ in range(random.randint(10, 20)):\n",
    "            chunk_distance = scroll_distance // 4\n",
    "            driver.execute_script(f\"window.scrollBy(0, {chunk_distance});\")\n",
    "            time.sleep(random.uniform(0.01, 0.05))\n",
    "        \n",
    "        time.sleep(random.randint(1, 3))\n",
    "        \n",
    "        if random.random() < 0.1:\n",
    "            driver.execute_script(f\"window.scrollBy(0, {-int(random.gauss(30, 10))});\")\n",
    "        \n",
    "        if random.random() < 0.001:\n",
    "            time.sleep(random.gauss(4, 2))\n",
    "        \n",
    "        if random.randint(1, 5)==1:\n",
    "            time.sleep(random.randint(20, 30))\n",
    "        \n",
    "        if random.randint(1, 20)==1:\n",
    "            time.sleep(random.randint(60*3, 60*5))\n",
    "        if random.random() < 0.02:\n",
    "            break\n",
    "\n",
    "driver = webdriver.Chrome()\n",
    "\n",
    "driver.get(\"https://www.google.com/search?q=blue+beerries&sca_esv=565306219&sxsrf=AM9HkKklKddUofahjiY19DG_J0W1unMrlA%3A1694687417521&source=hp&ei=ueACZaOzHYL8wQPG9a6wCw&iflsig=AO6bgOgAAAAAZQLuyZ-mRXBu-VWi8egFoD8N0nWfv7Zw&ved=0ahUKEwjj85jM8qmBAxUCfnAKHca6C7YQ4dUDCAk&uact=5&oq=blue+beerries&gs_lp=Egdnd3Mtd2l6Ig1ibHVlIGJlZXJyaWVzMgoQLhixAxiABBgKMgcQABiABBgKMg0QABiABBixAxiDARgKMgcQABiABBgKMgcQABiABBgKMgoQABiABBixAxgKMgcQABiABBgKMgcQABiABBgKMgcQLhiABBgKMgcQABiABBgKSO8fUABYvB5wBHgAkAEAmAG3AaABwg-qAQQwLjEzuAEDyAEA-AEBwgIHECMYigUYJ8ICCxAAGIAEGLEDGIMBwgILEAAYigUYsQMYgwHCAhEQLhiABBixAxiDARjHARjRA8ICCBAuGIAEGLEDwgIOEC4YgAQYsQMYxwEY0QPCAgUQABiABMICCBAAGIAEGLEDwgILEC4YgAQYxwEYrwHCAgsQLhiABBixAxiDAcICERAuGIMBGMcBGLEDGNEDGIAEwgILEAAYgAQYsQMYyQPCAggQABiKBRiSA8ICCxAuGIMBGLEDGIAEwgIIEC4YsQMYgAQ&sclient=gws-wiz\")\n",
    " \n",
    "human_like_scroll(driver)\n",
    "print('done')\n"
   ]
  },
  {
   "cell_type": "code",
   "execution_count": 8,
   "metadata": {},
   "outputs": [
    {
     "data": {
      "text/plain": [
       "189.58793463128444"
      ]
     },
     "execution_count": 8,
     "metadata": {},
     "output_type": "execute_result"
    }
   ],
   "source": []
  },
  {
   "cell_type": "code",
   "execution_count": 67,
   "metadata": {},
   "outputs": [
    {
     "ename": "ValueError",
     "evalue": "empty range for randrange() (-4, -5, -1)",
     "output_type": "error",
     "traceback": [
      "\u001b[0;31m---------------------------------------------------------------------------\u001b[0m",
      "\u001b[0;31mValueError\u001b[0m                                Traceback (most recent call last)",
      "\u001b[1;32m/home/saket/Documents/python/i3access/Twitter_scraper/test2.0/main.ipynb Cell 2\u001b[0m line \u001b[0;36m3\n\u001b[1;32m     <a href='vscode-notebook-cell:/home/saket/Documents/python/i3access/Twitter_scraper/test2.0/main.ipynb#W1sZmlsZQ%3D%3D?line=25'>26</a>\u001b[0m driver \u001b[39m=\u001b[39m webdriver\u001b[39m.\u001b[39mChrome()\n\u001b[1;32m     <a href='vscode-notebook-cell:/home/saket/Documents/python/i3access/Twitter_scraper/test2.0/main.ipynb#W1sZmlsZQ%3D%3D?line=28'>29</a>\u001b[0m driver\u001b[39m.\u001b[39mget(\u001b[39m\"\u001b[39m\u001b[39mhttps://www.google.com/search?q=blue+beerries&sca_esv=565306219&sxsrf=AM9HkKklKddUofahjiY19DG_J0W1unMrlA\u001b[39m\u001b[39m%\u001b[39m\u001b[39m3A1694687417521&source=hp&ei=ueACZaOzHYL8wQPG9a6wCw&iflsig=AO6bgOgAAAAAZQLuyZ-mRXBu-VWi8egFoD8N0nWfv7Zw&ved=0ahUKEwjj85jM8qmBAxUCfnAKHca6C7YQ4dUDCAk&uact=5&oq=blue+beerries&gs_lp=Egdnd3Mtd2l6Ig1ibHVlIGJlZXJyaWVzMgoQLhixAxiABBgKMgcQABiABBgKMg0QABiABBixAxiDARgKMgcQABiABBgKMgcQABiABBgKMgoQABiABBixAxgKMgcQABiABBgKMgcQABiABBgKMgcQLhiABBgKMgcQABiABBgKSO8fUABYvB5wBHgAkAEAmAG3AaABwg-qAQQwLjEzuAEDyAEA-AEBwgIHECMYigUYJ8ICCxAAGIAEGLEDGIMBwgILEAAYigUYsQMYgwHCAhEQLhiABBixAxiDARjHARjRA8ICCBAuGIAEGLEDwgIOEC4YgAQYsQMYxwEY0QPCAgUQABiABMICCBAAGIAEGLEDwgILEC4YgAQYxwEYrwHCAgsQLhiABBixAxiDAcICERAuGIMBGMcBGLEDGNEDGIAEwgILEAAYgAQYsQMYyQPCAggQABiKBRiSA8ICCxAuGIMBGLEDGIAEwgIIEC4YsQMYgAQ&sclient=gws-wiz\u001b[39m\u001b[39m\"\u001b[39m)\n\u001b[0;32m---> <a href='vscode-notebook-cell:/home/saket/Documents/python/i3access/Twitter_scraper/test2.0/main.ipynb#W1sZmlsZQ%3D%3D?line=30'>31</a>\u001b[0m human_like_scroll(driver)\n\u001b[1;32m     <a href='vscode-notebook-cell:/home/saket/Documents/python/i3access/Twitter_scraper/test2.0/main.ipynb#W1sZmlsZQ%3D%3D?line=31'>32</a>\u001b[0m \u001b[39mprint\u001b[39m(\u001b[39m'\u001b[39m\u001b[39mdone\u001b[39m\u001b[39m'\u001b[39m)\n",
      "\u001b[1;32m/home/saket/Documents/python/i3access/Twitter_scraper/test2.0/main.ipynb Cell 2\u001b[0m line \u001b[0;36m1\n\u001b[1;32m      <a href='vscode-notebook-cell:/home/saket/Documents/python/i3access/Twitter_scraper/test2.0/main.ipynb#W1sZmlsZQ%3D%3D?line=6'>7</a>\u001b[0m scroll_distance \u001b[39m=\u001b[39m \u001b[39mint\u001b[39m(random\u001b[39m.\u001b[39mgauss(\u001b[39m2\u001b[39m, \u001b[39m15\u001b[39m))\n\u001b[1;32m      <a href='vscode-notebook-cell:/home/saket/Documents/python/i3access/Twitter_scraper/test2.0/main.ipynb#W1sZmlsZQ%3D%3D?line=8'>9</a>\u001b[0m \u001b[39mfor\u001b[39;00m _ \u001b[39min\u001b[39;00m \u001b[39mrange\u001b[39m(random\u001b[39m.\u001b[39mrandint(\u001b[39m10\u001b[39m, \u001b[39m20\u001b[39m)):\n\u001b[0;32m---> <a href='vscode-notebook-cell:/home/saket/Documents/python/i3access/Twitter_scraper/test2.0/main.ipynb#W1sZmlsZQ%3D%3D?line=9'>10</a>\u001b[0m     chunk_distance \u001b[39m=\u001b[39m random\u001b[39m.\u001b[39;49mrandint(scroll_distance \u001b[39m/\u001b[39;49m\u001b[39m/\u001b[39;49m \u001b[39m5\u001b[39;49m, scroll_distance \u001b[39m/\u001b[39;49m\u001b[39m/\u001b[39;49m \u001b[39m3\u001b[39;49m)\n\u001b[1;32m     <a href='vscode-notebook-cell:/home/saket/Documents/python/i3access/Twitter_scraper/test2.0/main.ipynb#W1sZmlsZQ%3D%3D?line=10'>11</a>\u001b[0m     driver\u001b[39m.\u001b[39mexecute_script(\u001b[39mf\u001b[39m\u001b[39m\"\u001b[39m\u001b[39mwindow.scrollBy(0, \u001b[39m\u001b[39m{\u001b[39;00mchunk_distance\u001b[39m}\u001b[39;00m\u001b[39m);\u001b[39m\u001b[39m\"\u001b[39m)\n\u001b[1;32m     <a href='vscode-notebook-cell:/home/saket/Documents/python/i3access/Twitter_scraper/test2.0/main.ipynb#W1sZmlsZQ%3D%3D?line=11'>12</a>\u001b[0m     time\u001b[39m.\u001b[39msleep(random\u001b[39m.\u001b[39mgauss(\u001b[39m0.03\u001b[39m, \u001b[39m0.01\u001b[39m))\n",
      "File \u001b[0;32m/usr/lib/python3.11/random.py:362\u001b[0m, in \u001b[0;36mRandom.randint\u001b[0;34m(self, a, b)\u001b[0m\n\u001b[1;32m    358\u001b[0m \u001b[39mdef\u001b[39;00m \u001b[39mrandint\u001b[39m(\u001b[39mself\u001b[39m, a, b):\n\u001b[1;32m    359\u001b[0m \u001b[39m    \u001b[39m\u001b[39m\"\"\"Return random integer in range [a, b], including both end points.\u001b[39;00m\n\u001b[1;32m    360\u001b[0m \u001b[39m    \"\"\"\u001b[39;00m\n\u001b[0;32m--> 362\u001b[0m     \u001b[39mreturn\u001b[39;00m \u001b[39mself\u001b[39;49m\u001b[39m.\u001b[39;49mrandrange(a, b\u001b[39m+\u001b[39;49m\u001b[39m1\u001b[39;49m)\n",
      "File \u001b[0;32m/usr/lib/python3.11/random.py:345\u001b[0m, in \u001b[0;36mRandom.randrange\u001b[0;34m(self, start, stop, step)\u001b[0m\n\u001b[1;32m    343\u001b[0m     \u001b[39mif\u001b[39;00m width \u001b[39m>\u001b[39m \u001b[39m0\u001b[39m:\n\u001b[1;32m    344\u001b[0m         \u001b[39mreturn\u001b[39;00m istart \u001b[39m+\u001b[39m \u001b[39mself\u001b[39m\u001b[39m.\u001b[39m_randbelow(width)\n\u001b[0;32m--> 345\u001b[0m     \u001b[39mraise\u001b[39;00m \u001b[39mValueError\u001b[39;00m(\u001b[39m\"\u001b[39m\u001b[39mempty range for randrange() (\u001b[39m\u001b[39m%d\u001b[39;00m\u001b[39m, \u001b[39m\u001b[39m%d\u001b[39;00m\u001b[39m, \u001b[39m\u001b[39m%d\u001b[39;00m\u001b[39m)\u001b[39m\u001b[39m\"\u001b[39m \u001b[39m%\u001b[39m (istart, istop, width))\n\u001b[1;32m    347\u001b[0m \u001b[39m# Non-unit step argument supplied.\u001b[39;00m\n\u001b[1;32m    348\u001b[0m \u001b[39mif\u001b[39;00m istep \u001b[39m>\u001b[39m \u001b[39m0\u001b[39m:\n",
      "\u001b[0;31mValueError\u001b[0m: empty range for randrange() (-4, -5, -1)"
     ]
    }
   ],
   "source": [
    "def human_like_scroll(driver, iterations=500):\n",
    "    \"\"\"Simulate a human-like scrolling behavior.\"\"\"\n",
    "    \n",
    "    time.sleep(random.gauss(0.5, 0.1))\n",
    "    \n",
    "    for _ in range(random.randint(iterations // 2, iterations)):\n",
    "        scroll_distance = int(random.gauss(2, 15))\n",
    "        \n",
    "        for _ in range(random.randint(10, 20)):\n",
    "            chunk_distance = random.randint(scroll_distance // 5, scroll_distance // 3)\n",
    "            driver.execute_script(f\"window.scrollBy(0, {chunk_distance});\")\n",
    "            time.sleep(random.gauss(0.03, 0.01))\n",
    "        \n",
    "        time.sleep(abs(random.gauss(0.3, 0.2)))\n",
    "        \n",
    "        if random.random() < 0.1:\n",
    "            driver.execute_script(f\"window.scrollBy(0, {-int(random.gauss(30, 10))});\")\n",
    "        \n",
    "        if random.random() < 0.001:\n",
    "            time.sleep(abs(random.gauss(4, 2)))\n",
    "        \n",
    "        if random.random() < 0.02:\n",
    "            break\n",
    "\n",
    "\n",
    "driver = webdriver.Chrome()\n",
    "\n",
    "\n",
    "driver.get(\"https://www.google.com/search?q=blue+beerries&sca_esv=565306219&sxsrf=AM9HkKklKddUofahjiY19DG_J0W1unMrlA%3A1694687417521&source=hp&ei=ueACZaOzHYL8wQPG9a6wCw&iflsig=AO6bgOgAAAAAZQLuyZ-mRXBu-VWi8egFoD8N0nWfv7Zw&ved=0ahUKEwjj85jM8qmBAxUCfnAKHca6C7YQ4dUDCAk&uact=5&oq=blue+beerries&gs_lp=Egdnd3Mtd2l6Ig1ibHVlIGJlZXJyaWVzMgoQLhixAxiABBgKMgcQABiABBgKMg0QABiABBixAxiDARgKMgcQABiABBgKMgcQABiABBgKMgoQABiABBixAxgKMgcQABiABBgKMgcQABiABBgKMgcQLhiABBgKMgcQABiABBgKSO8fUABYvB5wBHgAkAEAmAG3AaABwg-qAQQwLjEzuAEDyAEA-AEBwgIHECMYigUYJ8ICCxAAGIAEGLEDGIMBwgILEAAYigUYsQMYgwHCAhEQLhiABBixAxiDARjHARjRA8ICCBAuGIAEGLEDwgIOEC4YgAQYsQMYxwEY0QPCAgUQABiABMICCBAAGIAEGLEDwgILEC4YgAQYxwEYrwHCAgsQLhiABBixAxiDAcICERAuGIMBGMcBGLEDGNEDGIAEwgILEAAYgAQYsQMYyQPCAggQABiKBRiSA8ICCxAuGIMBGLEDGIAEwgIIEC4YsQMYgAQ&sclient=gws-wiz\")\n",
    "\n",
    "human_like_scroll(driver)\n",
    "print('done')\n"
   ]
  },
  {
   "cell_type": "code",
   "execution_count": null,
   "metadata": {},
   "outputs": [],
   "source": []
  },
  {
   "cell_type": "code",
   "execution_count": 63,
   "metadata": {},
   "outputs": [
    {
     "data": {
      "text/plain": [
       "35.287428585028124"
      ]
     },
     "execution_count": 63,
     "metadata": {},
     "output_type": "execute_result"
    }
   ],
   "source": []
  },
  {
   "cell_type": "code",
   "execution_count": null,
   "metadata": {},
   "outputs": [],
   "source": [
    "\n",
    "def human_like_scroll(driver, iterations=500):\n",
    "    \"\"\"Simulate a human-like scrolling behavior.\"\"\"\n",
    "    \n",
    "    time.sleep(random.gauss(0.5, 0.1))\n",
    "    \n",
    "    for _ in range(random.randint(iterations // 2, iterations)):\n",
    "        scroll_distance = int(random.gauss(200, 60))\n",
    "        \n",
    "        for _ in range(random.randint(20, 40)):\n",
    "            chunk_distance = random.randint(scroll_distance // 5, scroll_distance // 3)\n",
    "            driver.execute_script(f\"window.scrollBy(0, {chunk_distance});\")\n",
    "            time.sleep(random.gauss(0.03, 0.01))\n",
    "        \n",
    "        time.sleep(abs(random.gauss(0.3, 0.2)))\n",
    "        \n",
    "        if random.random() < 0.1:\n",
    "            driver.execute_script(f\"window.scrollBy(0, {-int(random.gauss(30, 10))});\")\n",
    "        \n",
    "        if random.random() < 0.001:\n",
    "            time.sleep(abs(random.gauss(4, 2)))\n",
    "        \n",
    "        if random.random() < 0.02:\n",
    "            break\n",
    "\n",
    "def human_like_scroll(driver, iterations=500):\n",
    "    \"\"\"Simulate a human-like scrolling behavior.\"\"\"\n",
    "    \n",
    "    time.sleep(random.gauss(0.5, 0.1))\n",
    "    \n",
    "    for _ in range(random.randint(iterations // 2, iterations)):\n",
    "        # Gaussian distribution for scroll distance\n",
    "        scroll_distance = int(random.gauss(50, 15))\n",
    "        \n",
    "        # Variable acceleration: more dynamic chunk distance and speed\n",
    "        for _ in range(random.randint(10, 20)):\n",
    "            chunk_distance = random.randint(scroll_distance // 5, scroll_distance // 3)\n",
    "            driver.execute_script(f\"window.scrollBy(0, {chunk_distance});\")\n",
    "            time.sleep(random.gauss(0.03, 0.01))\n",
    "        \n",
    "        # Random short pause for \"reading\"\n",
    "        time.sleep(abs(random.gauss(0.3, 0.2)))\n",
    "        \n",
    "        # Occasional scroll up\n",
    "        if random.random() < 0.1:\n",
    "            driver.execute_script(f\"window.scrollBy(0, {-int(random.gauss(30, 10))});\")\n",
    "        \n",
    "        # Extremely rare longer pause for \"deep reading or interaction\"\n",
    "        if random.random() < 0.001:\n",
    "            time.sleep(abs(random.gauss(4, 2)))\n",
    "        \n",
    "        # Random chance to break the loop early (mimic stopping scrolling)\n",
    "        if random.random() < 0.02:\n",
    "            break"
   ]
  },
  {
   "cell_type": "code",
   "execution_count": 5,
   "metadata": {},
   "outputs": [
    {
     "data": {
      "text/plain": [
       "'/home/saket/Documents/python/i3access/Twitter_scraper/test2.0/Market Ambience 5StreetBazaarCityVillageExteriorThink Sound Effects.mp4'"
      ]
     },
     "execution_count": 5,
     "metadata": {},
     "output_type": "execute_result"
    }
   ],
   "source": [
    "import pytube\n",
    "\n",
    "video_url = \"https://www.youtube.com/watch?v=eMxNkyJmPO0\"\n",
    "\n",
    "video = pytube.YouTube(video_url)\n",
    "\n",
    "video_stream = video.streams.get_highest_resolution()\n",
    "\n",
    "video_stream.download()\n"
   ]
  },
  {
   "cell_type": "code",
   "execution_count": null,
   "metadata": {},
   "outputs": [],
   "source": []
  }
 ],
 "metadata": {
  "kernelspec": {
   "display_name": "Python 3",
   "language": "python",
   "name": "python3"
  },
  "language_info": {
   "codemirror_mode": {
    "name": "ipython",
    "version": 3
   },
   "file_extension": ".py",
   "mimetype": "text/x-python",
   "name": "python",
   "nbconvert_exporter": "python",
   "pygments_lexer": "ipython3",
   "version": "3.11.4"
  },
  "orig_nbformat": 4
 },
 "nbformat": 4,
 "nbformat_minor": 2
}
