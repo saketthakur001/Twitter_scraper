{
 "cells": [
  {
   "cell_type": "code",
   "execution_count": 4,
   "metadata": {},
   "outputs": [
    {
     "name": "stdout",
     "output_type": "stream",
     "text": [
      "File exists: False\n"
     ]
    }
   ],
   "source": [
    "import os\n",
    "\n",
    "# your hashtag and technology variables here\n",
    "hashtag = ''\n",
    "technology = ''\n",
    "\n",
    "# construct the filename\n",
    "filename = f'twitter_comments_csv{hashtag} from {technology}.csv'\n",
    "\n",
    "# check if file exists\n",
    "file_exists = os.path.exists(filename)\n",
    "\n",
    "# print result\n",
    "print(f\"File exists: {file_exists}\")\n"
   ]
  }
 ],
 "metadata": {
  "kernelspec": {
   "display_name": "Python 3",
   "language": "python",
   "name": "python3"
  },
  "language_info": {
   "codemirror_mode": {
    "name": "ipython",
    "version": 3
   },
   "file_extension": ".py",
   "mimetype": "text/x-python",
   "name": "python",
   "nbconvert_exporter": "python",
   "pygments_lexer": "ipython3",
   "version": "3.11.4"
  }
 },
 "nbformat": 4,
 "nbformat_minor": 2
}
