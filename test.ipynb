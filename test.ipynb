{
 "cells": [
  {
   "cell_type": "code",
   "execution_count": 4,
   "metadata": {},
   "outputs": [
    {
     "name": "stdout",
     "output_type": "stream",
     "text": [
      "Defaulting to user installation because normal site-packages is not writeable\n",
      "Collecting lingua-language-detector\n",
      "  Obtaining dependency information for lingua-language-detector from https://files.pythonhosted.org/packages/3e/e6/79a4bb1f0e060b5c9d9c34961abdf8042f456c140bac744c1bd88d7eb1c1/lingua_language_detector-1.3.3-py3-none-any.whl.metadata\n",
      "  Downloading lingua_language_detector-1.3.3-py3-none-any.whl.metadata (282 kB)\n",
      "\u001b[2K     \u001b[90m━━━━━━━━━━━━━━━━━━━━━━━━━━━━━━━━━━━━━━━\u001b[0m \u001b[32m282.3/282.3 kB\u001b[0m \u001b[31m3.9 MB/s\u001b[0m eta \u001b[36m0:00:00\u001b[0m00:01\u001b[0m00:01\u001b[0m\n",
      "\u001b[?25hCollecting numpy<1.25,>=1.24.4 (from lingua-language-detector)\n",
      "  Obtaining dependency information for numpy<1.25,>=1.24.4 from https://files.pythonhosted.org/packages/22/97/dfb1a31bb46686f09e68ea6ac5c63fdee0d22d7b23b8f3f7ea07712869ef/numpy-1.24.4-cp311-cp311-manylinux_2_17_x86_64.manylinux2014_x86_64.whl.metadata\n",
      "  Downloading numpy-1.24.4-cp311-cp311-manylinux_2_17_x86_64.manylinux2014_x86_64.whl.metadata (5.6 kB)\n",
      "Requirement already satisfied: regex<2024.0.0,>=2023.8.8 in /home/saket/.local/lib/python3.11/site-packages (from lingua-language-detector) (2023.8.8)\n",
      "Downloading lingua_language_detector-1.3.3-py3-none-any.whl (86.7 MB)\n",
      "\u001b[2K   \u001b[90m━━━━━━━━━━━━━━━━━━━━━━━━━━━━━━━━━━━━━━━━\u001b[0m \u001b[32m86.7/86.7 MB\u001b[0m \u001b[31m5.6 MB/s\u001b[0m eta \u001b[36m0:00:00\u001b[0m00:01\u001b[0m00:01\u001b[0m\n",
      "\u001b[?25hDownloading numpy-1.24.4-cp311-cp311-manylinux_2_17_x86_64.manylinux2014_x86_64.whl (17.3 MB)\n",
      "\u001b[2K   \u001b[90m━━━━━━━━━━━━━━━━━━━━━━━━━━━━━━━━━━━━━━━━\u001b[0m \u001b[32m17.3/17.3 MB\u001b[0m \u001b[31m5.7 MB/s\u001b[0m eta \u001b[36m0:00:00\u001b[0m00:01\u001b[0m00:01\u001b[0m\n",
      "\u001b[?25hInstalling collected packages: numpy, lingua-language-detector\n",
      "Successfully installed lingua-language-detector-1.3.3 numpy-1.24.4\n",
      "Note: you may need to restart the kernel to use updated packages.\n"
     ]
    }
   ],
   "source": [
    "pip install lingua-language-detector"
   ]
  },
  {
   "cell_type": "code",
   "execution_count": 9,
   "metadata": {},
   "outputs": [
    {
     "ename": "ImportError",
     "evalue": "cannot import name 'Language' from 'lingua' (/home/saket/.local/lib/python3.11/site-packages/lingua/__init__.py)",
     "output_type": "error",
     "traceback": [
      "\u001b[0;31m---------------------------------------------------------------------------\u001b[0m",
      "\u001b[0;31mImportError\u001b[0m                               Traceback (most recent call last)",
      "\u001b[1;32m/home/saket/Documents/python/i3access/Twitter_scraper/test.ipynb Cell 2\u001b[0m line \u001b[0;36m1\n\u001b[0;32m----> <a href='vscode-notebook-cell:/home/saket/Documents/python/i3access/Twitter_scraper/test.ipynb#W0sZmlsZQ%3D%3D?line=0'>1</a>\u001b[0m \u001b[39mfrom\u001b[39;00m \u001b[39mlingua\u001b[39;00m \u001b[39mimport\u001b[39;00m Language,LanguageDetectorBuilder\n\u001b[1;32m      <a href='vscode-notebook-cell:/home/saket/Documents/python/i3access/Twitter_scraper/test.ipynb#W0sZmlsZQ%3D%3D?line=1'>2</a>\u001b[0m \u001b[39mimport\u001b[39;00m \u001b[39mpandas\u001b[39;00m \u001b[39mas\u001b[39;00m \u001b[39mpd\u001b[39;00m\n\u001b[1;32m      <a href='vscode-notebook-cell:/home/saket/Documents/python/i3access/Twitter_scraper/test.ipynb#W0sZmlsZQ%3D%3D?line=3'>4</a>\u001b[0m \u001b[39mdef\u001b[39;00m \u001b[39mdetect_language\u001b[39m(df, text_column):\n",
      "\u001b[0;31mImportError\u001b[0m: cannot import name 'Language' from 'lingua' (/home/saket/.local/lib/python3.11/site-packages/lingua/__init__.py)"
     ]
    }
   ],
   "source": [
    "from lingua import Language,LanguageDetectorBuilder\n",
    "import pandas as pd\n",
    "\n",
    "def detect_language(df, text_column):\n",
    "    def lang_detection(text):\n",
    "        try:\n",
    "            if not text or len(str(text).strip()) < 3:\n",
    "                return 'INVALID'  # Return 'INVALID' for null, empty, or very short texts\n",
    "            lang = [Language.ENGLISH, Language.TELUGU, Language.TAMIL, Language.MARATHI,Language.HINDI, Language.PUNJABI, Language.GUJARATI, Language.BENGALI, Language.URDU, Language.SOMALI]\n",
    "            detector = LanguageDetectorBuilder.from_languages(*lang).build()\n",
    "            confidence = detector.compute_language_confidence_values(str(text))\n",
    "            language = max(confidence, key=lambda x: x[1])[0]\n",
    "            return language.name\n",
    "        except Exception as e:\n",
    "            print(f\"Error on text '{text}': {e}\")\n",
    "            return 'ERROR'\n",
    "\n",
    "    df['language'] = df[text_column].apply(lang_detection)\n",
    "\n",
    "    df_english = df[df['language'] == 'ENGLISH']\n",
    "    df_non_english = df[df['language'] != 'ENGLISH']\n",
    "    df_non_english = df_non_english[df_non_english['language'] != 'INVALID']  # Exclude 'INVALID' entries\n",
    "    \n",
    "    return df_english, df_non_english\n",
    "\n",
    "# Sample DataFrame\n",
    "final = pd.DataFrame({\n",
    "    'clean_text': ['hello my name is aman', 'bonjour', 'hola', 'मैं सुबह छह बजे उठता हूं।', None, '', ' ']\n",
    "})\n",
    "\n",
    "final_english, final_non_english = detect_language(final, 'clean_text')\n",
    "print(\"English Texts:\")\n",
    "print(final_english)\n",
    "print(\"\\nNon-English Texts:\")\n",
    "print(final_non_english)"
   ]
  }
 ],
 "metadata": {
  "kernelspec": {
   "display_name": "Python 3",
   "language": "python",
   "name": "python3"
  },
  "language_info": {
   "codemirror_mode": {
    "name": "ipython",
    "version": 3
   },
   "file_extension": ".py",
   "mimetype": "text/x-python",
   "name": "python",
   "nbconvert_exporter": "python",
   "pygments_lexer": "ipython3",
   "version": "3.11.4"
  }
 },
 "nbformat": 4,
 "nbformat_minor": 2
}
