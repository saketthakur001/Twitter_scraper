{
 "cells": [
  {
   "cell_type": "code",
   "execution_count": 1,
   "metadata": {},
   "outputs": [
    {
     "name": "stdout",
     "output_type": "stream",
     "text": [
      "JSON Decode Error: Expecting ',' delimiter: line 2 column 370 (char 963)\n"
     ]
    }
   ],
   "source": []
  },
  {
   "cell_type": "code",
   "execution_count": 1,
   "metadata": {},
   "outputs": [],
   "source": [
    "\n",
    "def twitter_search(hashtag):\n",
    "    base_url = \"https://twitter.com/search?q=%23\"\n",
    "    end_url = \"&src=typed_query&f=top\"\n",
    "    \n",
    "    return base_url + hashtag + end_url\n"
   ]
  },
  {
   "cell_type": "code",
   "execution_count": 6,
   "metadata": {},
   "outputs": [
    {
     "data": {
      "text/plain": [
       "'https://twitter.com/search?q=%23IRDA%20%23Insurance&src=typed_query&f=top'"
      ]
     },
     "execution_count": 6,
     "metadata": {},
     "output_type": "execute_result"
    }
   ],
   "source": [
    "def twitter_search(hashtags):\n",
    "    base_url = \"https://twitter.com/search?q=\"\n",
    "    end_url = \"&src=typed_query&f=top\"\n",
    "    \n",
    "    hashtag_list = hashtags.split()\n",
    "    formatted_hashtags = \"%20\".join([\"%23\" + tag.replace(\"#\", \"\") for tag in hashtag_list])\n",
    "    \n",
    "    return base_url + formatted_hashtags + end_url\n"
   ]
  },
  {
   "cell_type": "code",
   "execution_count": 2,
   "metadata": {},
   "outputs": [
    {
     "data": {
      "text/plain": [
       "'https://twitter.com/search?q=%23IRDA%20Insurance&src=typed_query'"
      ]
     },
     "execution_count": 2,
     "metadata": {},
     "output_type": "execute_result"
    }
   ],
   "source": [
    "def twitter_search(hashtag):\n",
    "    base_url = \"https://twitter.com/search?q=\"\n",
    "    end_url = \"&src=typed_query\"\n",
    "    formatted_hashtag = \"%23\" + hashtag.replace(\"#\", \"\").replace(\" \", \"%20\")\n",
    "    return base_url + formatted_hashtag + end_url\n",
    "\n",
    "twitter_search(\"IRDA Insurance\")"
   ]
  },
  {
   "cell_type": "code",
   "execution_count": 5,
   "metadata": {},
   "outputs": [],
   "source": [
    "def twitter_search(hashtags):\n",
    "    base_url = \"https://twitter.com/search?q=\"\n",
    "    end_url = \"&src=typed_query&f=top\"\n",
    "    formatted_hashtags = \" \".join([\"%23\" + tag.replace(\"#\", \"\") for tag in hashtags.split()])\n",
    "    return base_url + formatted_hashtags.replace(\" \", \"%20\") + end_url\n"
   ]
  },
  {
   "cell_type": "code",
   "execution_count": 6,
   "metadata": {},
   "outputs": [
    {
     "data": {
      "text/plain": [
       "'https://twitter.com/search?q=%23Phonepe%20%23cybersecurity&src=typed_query&f=top'"
      ]
     },
     "execution_count": 6,
     "metadata": {},
     "output_type": "execute_result"
    }
   ],
   "source": [
    "twitter_search('#Phonepe cybersecurity')"
   ]
  },
  {
   "cell_type": "code",
   "execution_count": null,
   "metadata": {},
   "outputs": [],
   "source": [
    "\"https://twitter.com/search?q=%23Phonepe%20cybersecurity&src=typed_query\"\n"
   ]
  },
  {
   "cell_type": "code",
   "execution_count": 4,
   "metadata": {},
   "outputs": [
    {
     "data": {
      "text/plain": [
       "'https://twitter.com/search?q=%23Phonepe%20cybersecurity&src=typed_query'"
      ]
     },
     "execution_count": 4,
     "metadata": {},
     "output_type": "execute_result"
    }
   ],
   "source": []
  }
 ],
 "metadata": {
  "kernelspec": {
   "display_name": "base",
   "language": "python",
   "name": "python3"
  },
  "language_info": {
   "codemirror_mode": {
    "name": "ipython",
    "version": 3
   },
   "file_extension": ".py",
   "mimetype": "text/x-python",
   "name": "python",
   "nbconvert_exporter": "python",
   "pygments_lexer": "ipython3",
   "version": "3.11.4"
  },
  "orig_nbformat": 4
 },
 "nbformat": 4,
 "nbformat_minor": 2
}
